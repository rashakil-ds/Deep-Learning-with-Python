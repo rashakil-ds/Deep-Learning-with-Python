{
 "cells": [
  {
   "cell_type": "code",
   "execution_count": 1,
   "id": "3caf694a",
   "metadata": {},
   "outputs": [],
   "source": [
    "# !pip install numpy"
   ]
  },
  {
   "cell_type": "code",
   "execution_count": 2,
   "id": "55ac3bc2",
   "metadata": {},
   "outputs": [],
   "source": [
    "import numpy as np"
   ]
  },
  {
   "cell_type": "markdown",
   "id": "c0d809a6",
   "metadata": {},
   "source": [
    "# 1. ReLU - Rectified Linear Unit (Hidden Layer)"
   ]
  },
  {
   "cell_type": "code",
   "execution_count": 3,
   "id": "47f174a7",
   "metadata": {},
   "outputs": [],
   "source": [
    "def relu(x):\n",
    "    return np.maximum(0, x)\n"
   ]
  },
  {
   "cell_type": "code",
   "execution_count": 4,
   "id": "04873e16",
   "metadata": {},
   "outputs": [
    {
     "data": {
      "text/plain": [
       "10"
      ]
     },
     "execution_count": 4,
     "metadata": {},
     "output_type": "execute_result"
    }
   ],
   "source": [
    "relu(10)"
   ]
  },
  {
   "cell_type": "code",
   "execution_count": 5,
   "id": "81560793",
   "metadata": {},
   "outputs": [
    {
     "data": {
      "text/plain": [
       "0"
      ]
     },
     "execution_count": 5,
     "metadata": {},
     "output_type": "execute_result"
    }
   ],
   "source": [
    "relu(-10)"
   ]
  },
  {
   "cell_type": "code",
   "execution_count": 6,
   "id": "e914d442",
   "metadata": {},
   "outputs": [
    {
     "data": {
      "text/plain": [
       "array([0, 0, 1, 2])"
      ]
     },
     "execution_count": 6,
     "metadata": {},
     "output_type": "execute_result"
    }
   ],
   "source": [
    "relu(np.array([-1, 0, 1, 2]))"
   ]
  },
  {
   "cell_type": "markdown",
   "id": "e6ea50d7",
   "metadata": {},
   "source": [
    "# 2. Leaky ReLU (Hidden Layer)"
   ]
  },
  {
   "cell_type": "markdown",
   "id": "a19d2b17",
   "metadata": {},
   "source": [
    "Leaky ReLU allows a small, positive gradient when the unit is not active."
   ]
  },
  {
   "cell_type": "code",
   "execution_count": 7,
   "id": "0a2a2eb6",
   "metadata": {},
   "outputs": [],
   "source": [
    "def leaky_relu(x, alpha=0.01):\n",
    "    return np.where(x > 0, x, x * alpha)\n"
   ]
  },
  {
   "cell_type": "code",
   "execution_count": 8,
   "id": "c4212806",
   "metadata": {},
   "outputs": [
    {
     "data": {
      "text/plain": [
       "array(-0.01)"
      ]
     },
     "execution_count": 8,
     "metadata": {},
     "output_type": "execute_result"
    }
   ],
   "source": [
    "leaky_relu(-1)"
   ]
  },
  {
   "cell_type": "code",
   "execution_count": 9,
   "id": "d243f562",
   "metadata": {},
   "outputs": [
    {
     "data": {
      "text/plain": [
       "array([-0.01,  0.  ,  1.  ,  2.  ])"
      ]
     },
     "execution_count": 9,
     "metadata": {},
     "output_type": "execute_result"
    }
   ],
   "source": [
    "leaky_relu(np.array([-1, 0, 1, 2]))"
   ]
  },
  {
   "cell_type": "markdown",
   "id": "6393bc6a",
   "metadata": {},
   "source": [
    "# 3. ELU - Exponential Linear Unit (Hidden Layer)"
   ]
  },
  {
   "cell_type": "markdown",
   "id": "cd1277d3",
   "metadata": {},
   "source": [
    "ELU has a small slope for negative values, unlike ReLU, to avoid the dying ReLU problem."
   ]
  },
  {
   "cell_type": "code",
   "execution_count": 10,
   "id": "ae19a635",
   "metadata": {},
   "outputs": [],
   "source": [
    "def elu(x, alpha=1.0):\n",
    "    return np.where(x > 0, x, alpha * (np.exp(x) - 1))"
   ]
  },
  {
   "cell_type": "code",
   "execution_count": 11,
   "id": "8120ec43",
   "metadata": {},
   "outputs": [
    {
     "data": {
      "text/plain": [
       "array(5.)"
      ]
     },
     "execution_count": 11,
     "metadata": {},
     "output_type": "execute_result"
    }
   ],
   "source": [
    "elu(5)"
   ]
  },
  {
   "cell_type": "code",
   "execution_count": 12,
   "id": "dc0d1b39",
   "metadata": {},
   "outputs": [
    {
     "data": {
      "text/plain": [
       "array([-0.63212056,  0.        ,  1.        ,  2.        ])"
      ]
     },
     "execution_count": 12,
     "metadata": {},
     "output_type": "execute_result"
    }
   ],
   "source": [
    "elu(np.array([-1, 0, 1, 2]))"
   ]
  },
  {
   "cell_type": "markdown",
   "id": "02a66821",
   "metadata": {},
   "source": [
    "# 4. Sigmoid (Output Layer & Binaryclass Problem)"
   ]
  },
  {
   "cell_type": "code",
   "execution_count": 13,
   "id": "037e9cb3",
   "metadata": {},
   "outputs": [],
   "source": [
    "def sigmoid(x):\n",
    "    return 1 / (1 + np.exp(-x))\n"
   ]
  },
  {
   "cell_type": "code",
   "execution_count": 14,
   "id": "408f0b7f",
   "metadata": {},
   "outputs": [
    {
     "data": {
      "text/plain": [
       "array([0.26894142, 0.5       , 0.73105858, 0.88079708])"
      ]
     },
     "execution_count": 14,
     "metadata": {},
     "output_type": "execute_result"
    }
   ],
   "source": [
    "sigmoid(np.array([-1, 0, 1, 2]))"
   ]
  },
  {
   "cell_type": "markdown",
   "id": "d6afd65e",
   "metadata": {},
   "source": [
    "# 5. Softmax (Output Layer & Multiclass Problem)"
   ]
  },
  {
   "cell_type": "markdown",
   "id": "6d7f80ba",
   "metadata": {},
   "source": [
    "Softmax converts a real vector to a vector of categorical probabilities."
   ]
  },
  {
   "cell_type": "code",
   "execution_count": 15,
   "id": "1bd42072",
   "metadata": {},
   "outputs": [],
   "source": [
    "def softmax(x):\n",
    "    e_x = np.exp(x - np.max(x))  \n",
    "    return e_x / e_x.sum(axis=0)\n"
   ]
  },
  {
   "cell_type": "code",
   "execution_count": 16,
   "id": "136ead8b",
   "metadata": {},
   "outputs": [
    {
     "data": {
      "text/plain": [
       "array([0.0320586 , 0.08714432, 0.23688282, 0.64391426])"
      ]
     },
     "execution_count": 16,
     "metadata": {},
     "output_type": "execute_result"
    }
   ],
   "source": [
    "proba = softmax(np.array([-1, 0, 1, 2]))\n",
    "proba"
   ]
  },
  {
   "cell_type": "code",
   "execution_count": 17,
   "id": "2388c5b0",
   "metadata": {},
   "outputs": [
    {
     "data": {
      "text/plain": [
       "1.0"
      ]
     },
     "execution_count": 17,
     "metadata": {},
     "output_type": "execute_result"
    }
   ],
   "source": [
    "sum(proba)"
   ]
  },
  {
   "cell_type": "markdown",
   "id": "b7977ddf",
   "metadata": {},
   "source": [
    "# 6. Swish (Hidden Layer)"
   ]
  },
  {
   "cell_type": "markdown",
   "id": "31667369",
   "metadata": {},
   "source": [
    "Swish is a self-gated activation function."
   ]
  },
  {
   "cell_type": "code",
   "execution_count": 18,
   "id": "94bcf6dc",
   "metadata": {},
   "outputs": [],
   "source": [
    "def swish(x, beta=1.0):\n",
    "    return x * sigmoid(beta * x)\n"
   ]
  },
  {
   "cell_type": "code",
   "execution_count": 19,
   "id": "aa3867fb",
   "metadata": {},
   "outputs": [
    {
     "data": {
      "text/plain": [
       "4.966535745378576"
      ]
     },
     "execution_count": 19,
     "metadata": {},
     "output_type": "execute_result"
    }
   ],
   "source": [
    "swish(5)"
   ]
  },
  {
   "cell_type": "code",
   "execution_count": 20,
   "id": "ac227b4a",
   "metadata": {},
   "outputs": [
    {
     "data": {
      "text/plain": [
       "array([-0.26894142,  0.        ,  0.73105858,  1.76159416])"
      ]
     },
     "execution_count": 20,
     "metadata": {},
     "output_type": "execute_result"
    }
   ],
   "source": [
    "swish(np.array([-1, 0, 1, 2]))"
   ]
  },
  {
   "cell_type": "markdown",
   "id": "38e55866",
   "metadata": {},
   "source": [
    "# 7. Linear (Output Layer)"
   ]
  },
  {
   "cell_type": "markdown",
   "id": "4049385f",
   "metadata": {},
   "source": [
    "Linear or identity activation function returns the input directly."
   ]
  },
  {
   "cell_type": "code",
   "execution_count": 21,
   "id": "8f680b33",
   "metadata": {},
   "outputs": [],
   "source": [
    "def linear(x):\n",
    "    return x"
   ]
  },
  {
   "cell_type": "code",
   "execution_count": 22,
   "id": "c6abc3a2",
   "metadata": {},
   "outputs": [
    {
     "data": {
      "text/plain": [
       "10"
      ]
     },
     "execution_count": 22,
     "metadata": {},
     "output_type": "execute_result"
    }
   ],
   "source": [
    "linear(10)"
   ]
  },
  {
   "cell_type": "markdown",
   "id": "ef852cf7",
   "metadata": {},
   "source": [
    "# 8. Tanh (Hyperbolic Tangent)"
   ]
  },
  {
   "cell_type": "code",
   "execution_count": 23,
   "id": "26e87100",
   "metadata": {},
   "outputs": [],
   "source": [
    "def tanh(x):\n",
    "    return np.tanh(x)"
   ]
  },
  {
   "cell_type": "code",
   "execution_count": 24,
   "id": "e3ce4a70",
   "metadata": {},
   "outputs": [
    {
     "data": {
      "text/plain": [
       "0.9999999958776927"
      ]
     },
     "execution_count": 24,
     "metadata": {},
     "output_type": "execute_result"
    }
   ],
   "source": [
    "tanh(10)"
   ]
  },
  {
   "cell_type": "code",
   "execution_count": 25,
   "id": "dbd65fac",
   "metadata": {},
   "outputs": [
    {
     "data": {
      "text/plain": [
       "array([-0.76159416,  0.        ,  0.76159416,  0.96402758])"
      ]
     },
     "execution_count": 25,
     "metadata": {},
     "output_type": "execute_result"
    }
   ],
   "source": [
    "tanh([-1, 0, 1, 2])"
   ]
  },
  {
   "cell_type": "code",
   "execution_count": 26,
   "id": "ae2dc284",
   "metadata": {},
   "outputs": [],
   "source": [
    "import math"
   ]
  },
  {
   "cell_type": "code",
   "execution_count": 27,
   "id": "8560c99c",
   "metadata": {},
   "outputs": [],
   "source": [
    "def tanh(x):\n",
    "    result = (math.exp(x) - math.exp(-x)) / (math.exp(x) + math.exp(-x))\n",
    "    return result"
   ]
  },
  {
   "cell_type": "code",
   "execution_count": 28,
   "id": "48ef9ce5",
   "metadata": {},
   "outputs": [
    {
     "data": {
      "text/plain": [
       "-0.7615941559557649"
      ]
     },
     "execution_count": 28,
     "metadata": {},
     "output_type": "execute_result"
    }
   ],
   "source": [
    "tanh(-1)"
   ]
  }
 ],
 "metadata": {
  "kernelspec": {
   "display_name": "Python 3 (ipykernel)",
   "language": "python",
   "name": "python3"
  },
  "language_info": {
   "codemirror_mode": {
    "name": "ipython",
    "version": 3
   },
   "file_extension": ".py",
   "mimetype": "text/x-python",
   "name": "python",
   "nbconvert_exporter": "python",
   "pygments_lexer": "ipython3",
   "version": "3.9.13"
  }
 },
 "nbformat": 4,
 "nbformat_minor": 5
}
