{
 "cells": [
  {
   "cell_type": "markdown",
   "id": "4adce7a4",
   "metadata": {},
   "source": [
    "# Single Neuron Implementation\n",
    "\n",
    "This notebook demonstrates the implementation of a single neuron. The neuron will take weighted inputs, add a bias, and apply a sigmoid activation function to produce an output.\n",
    "\n",
    "## Neuron Implementation\n",
    "\n",
    "We will define the `sigmoid` function and the `feedforward` function to calculate the output of the neuron.\n"
   ]
  },
  {
   "cell_type": "code",
   "execution_count": 1,
   "id": "f6fc7922",
   "metadata": {},
   "outputs": [],
   "source": [
    "import math"
   ]
  },
  {
   "cell_type": "markdown",
   "id": "87a46f7e",
   "metadata": {},
   "source": [
    "Activation Function: Computes the sigmoid activation function."
   ]
  },
  {
   "cell_type": "code",
   "execution_count": 2,
   "id": "890d844a",
   "metadata": {},
   "outputs": [],
   "source": [
    "def sigmoid(z):\n",
    "    return 1 / (1 + math.exp(-z))"
   ]
  },
  {
   "cell_type": "markdown",
   "id": "3cc9ae2c",
   "metadata": {},
   "source": [
    "Feedforward Network: \n",
    "1. Calculates the weighted sum of inputs plus the bias.\n",
    "2. Applies the sigmoid activation function to the total."
   ]
  },
  {
   "cell_type": "code",
   "execution_count": 3,
   "id": "694118b2",
   "metadata": {},
   "outputs": [],
   "source": [
    "def feedforward(weights, bias, inputs):\n",
    "   \n",
    "    total = sum(w * x for w, x in zip(weights, inputs)) + bias\n",
    "   \n",
    "    return sigmoid(total)"
   ]
  },
  {
   "cell_type": "markdown",
   "id": "42a3aadf",
   "metadata": {},
   "source": [
    "classify(): Converts the sigmoid output to a class label based on a threshold (default is 0.5)."
   ]
  },
  {
   "cell_type": "code",
   "execution_count": 4,
   "id": "d61c0319",
   "metadata": {},
   "outputs": [],
   "source": [
    "def classify(output, threshold=0.5):\n",
    "    return 1 if output >= threshold else 0"
   ]
  },
  {
   "cell_type": "markdown",
   "id": "a0914ac4",
   "metadata": {},
   "source": [
    "We will define the weights, bias, and inputs, and then calculate the output of the neuron using the `feedforward` function.\n"
   ]
  },
  {
   "cell_type": "code",
   "execution_count": 5,
   "id": "8f7949b9",
   "metadata": {},
   "outputs": [
    {
     "name": "stdout",
     "output_type": "stream",
     "text": [
      "Output of the neuron for inputs [2, 3] is: 0.9706877692486436\n"
     ]
    }
   ],
   "source": [
    "weights = [0, 1]\n",
    "bias = 0.5\n",
    "\n",
    "inputs = [2, 3]\n",
    "\n",
    "output = feedforward(weights, bias, inputs)\n",
    "print(f\"Output of the neuron for inputs {inputs} is: {output}\")"
   ]
  },
  {
   "cell_type": "code",
   "execution_count": 6,
   "id": "1736516e",
   "metadata": {},
   "outputs": [
    {
     "name": "stdout",
     "output_type": "stream",
     "text": [
      "Class label for the output is: 1\n"
     ]
    }
   ],
   "source": [
    "class_label = classify(output)\n",
    "print(f\"Class label for the output is: {class_label}\")"
   ]
  },
  {
   "cell_type": "code",
   "execution_count": null,
   "id": "c1f23be1",
   "metadata": {},
   "outputs": [],
   "source": []
  }
 ],
 "metadata": {
  "kernelspec": {
   "display_name": "Python 3 (ipykernel)",
   "language": "python",
   "name": "python3"
  },
  "language_info": {
   "codemirror_mode": {
    "name": "ipython",
    "version": 3
   },
   "file_extension": ".py",
   "mimetype": "text/x-python",
   "name": "python",
   "nbconvert_exporter": "python",
   "pygments_lexer": "ipython3",
   "version": "3.9.13"
  }
 },
 "nbformat": 4,
 "nbformat_minor": 5
}
